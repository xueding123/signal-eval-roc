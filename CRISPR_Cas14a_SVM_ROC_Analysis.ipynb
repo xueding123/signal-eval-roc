{
 "cells": [
  {
   "cell_type": "code",
   "execution_count": null,
   "metadata": {},
   "outputs": [],
   "source": [
    "import pandas as pd\n",
    "import numpy as np\n",
    "import matplotlib.pyplot as plt\n",
    "from sklearn.model_selection import train_test_split, GridSearchCV\n",
    "from sklearn.svm import SVC\n",
    "from sklearn.metrics import roc_curve, auc\n",
    "from sklearn.preprocessing import StandardScaler, label_binarize\n",
    "import warnings\n",
    "import os\n",
    "warnings.filterwarnings('ignore')"
   ]
  },
  {
   "cell_type": "code",
   "execution_count": null,
   "metadata": {},
   "outputs": [],
   "source": [
    "# Set global font settings\n",
    "plt.rcParams['font.sans-serif'] = ['Arial', 'DejaVu Sans']\n",
    "plt.rcParams['axes.unicode_minus'] = False\n",
    "\n",
    "# Font size configuration\n",
    "plt.rcParams['font.size'] = 16\n",
    "plt.rcParams['axes.labelsize'] = 20\n",
    "plt.rcParams['axes.titlesize'] = 24\n",
    "plt.rcParams['xtick.labelsize'] = 16\n",
    "plt.rcParams['ytick.labelsize'] = 16\n",
    "plt.rcParams['legend.fontsize'] = 14\n",
    "plt.rcParams['figure.titlesize'] = 26\n",
    "\n",
    "print(\"Font settings configured\")"
   ]
  },
  {
   "cell_type": "markdown",
   "metadata": {},
   "source": [
    "## Data Loading"
   ]
  },
  {
   "cell_type": "code",
   "execution_count": null,
   "metadata": {},
   "outputs": [],
   "source": [
    "data_file = r\"F:\\作图目录20280825\\骨质疏松数据.xlsx\"\n",
    "df = pd.read_excel(data_file, header=1, usecols='B:H') \n",
    "cols = ['signal_1', 'sost_1', 'signal_2', 'sost_2', 'sost_mean', 'l1_4', 'left_hip']\n",
    "df.columns = cols\n",
    "\n",
    "print(f\"Data dimensions: {df.shape}\")\n",
    "print(f\"Features: {list(df.columns)}\")"
   ]
  },
  {
   "cell_type": "code",
   "execution_count": null,
   "metadata": {},
   "outputs": [],
   "source": [
    "# Add class labels\n",
    "if len(df) == 103:\n",
    "    df['class'] = ['Healthy'] * 35 + ['Osteopenia'] * 33 + ['Osteoporosis'] * 35\n",
    "else:\n",
    "    df['class'] = ['Healthy'] * 35 + ['Osteopenia'] * 33 + ['Osteoporosis'] * 36\n",
    "\n",
    "print(\"Class distribution:\")\n",
    "print(df['class'].value_counts())\n",
    "\n",
    "y = df['class'].map({'Healthy': 0, 'Osteopenia': 1, 'Osteoporosis': 2})\n",
    "print(f\"\\nLabel mapping: {dict(zip(['Healthy', 'Osteopenia', 'Osteoporosis'], [0, 1, 2]))}\")"
   ]
  },
  {
   "cell_type": "markdown",
   "metadata": {},
   "source": [
    "## SVM Configuration"
   ]
  },
  {
   "cell_type": "code",
   "execution_count": null,
   "metadata": {},
   "outputs": [],
   "source": [
    "svm_config = {\n",
    "    'model': SVC(probability=True, random_state=42),\n",
    "    'params': {'C': [0.1, 1, 10], 'kernel': ['rbf', 'linear']},\n",
    "    'color': '#24AAE3'\n",
    "}"
   ]
  },
  {
   "cell_type": "markdown",
   "metadata": {},
   "source": [
    "## Core Functions"
   ]
  },
  {
   "cell_type": "code",
   "execution_count": null,
   "metadata": {},
   "outputs": [],
   "source": [
    "def train_svm(config, X_train, X_test, y_train, y_test):\n",
    "    \"\"\"Train SVM algorithm and return prediction probabilities\"\"\"\n",
    "    print(\"Training: SVM...\")\n",
    "    \n",
    "    scaler = StandardScaler()\n",
    "    X_train_scaled = scaler.fit_transform(X_train)\n",
    "    X_test_scaled = scaler.transform(X_test)\n",
    "    \n",
    "    grid_search = GridSearchCV(config['model'], config['params'], cv=3, scoring='accuracy')\n",
    "    grid_search.fit(X_train_scaled, y_train)\n",
    "    best_model = grid_search.best_estimator_\n",
    "    print(f\"  ✓ Best parameters: {grid_search.best_params_}\")\n",
    "    \n",
    "    y_proba = best_model.predict_proba(X_test_scaled)\n",
    "    return y_proba"
   ]
  },
  {
   "cell_type": "code",
   "execution_count": null,
   "metadata": {},
   "outputs": [],
   "source": [
    "def plot_svm_roc_curve(y_true, y_proba, title, save_path=None):\n",
    "    \"\"\"Plot SVM ROC curve\"\"\"\n",
    "    \n",
    "    y_bin = label_binarize(y_true, classes=[0, 1, 2])\n",
    "    n_classes = y_bin.shape[1]\n",
    "    \n",
    "    fig, ax = plt.subplots(figsize=(14, 11))\n",
    "    \n",
    "    fpr = dict()\n",
    "    tpr = dict()\n",
    "    roc_auc = dict()\n",
    "    \n",
    "    for i in range(n_classes):\n",
    "        fpr[i], tpr[i], _ = roc_curve(y_bin[:, i], y_proba[:, i])\n",
    "        roc_auc[i] = auc(fpr[i], tpr[i])\n",
    "    \n",
    "    # Calculate macro-average ROC\n",
    "    all_fpr = np.unique(np.concatenate([fpr[i] for i in range(n_classes)]))\n",
    "    mean_tpr = np.zeros_like(all_fpr)\n",
    "    for i in range(n_classes):\n",
    "        mean_tpr += np.interp(all_fpr, fpr[i], tpr[i])\n",
    "    mean_tpr /= n_classes\n",
    "    \n",
    "    fpr[\"macro\"] = all_fpr\n",
    "    tpr[\"macro\"] = mean_tpr\n",
    "    roc_auc[\"macro\"] = auc(fpr[\"macro\"], tpr[\"macro\"])\n",
    "    \n",
    "    # Plot macro-average ROC curve\n",
    "    ax.plot(fpr[\"macro\"], tpr[\"macro\"],\n",
    "            label=f'SVM (AUC = {roc_auc[\"macro\"]:.3f})',\n",
    "            color=svm_config['color'], linestyle='-', linewidth=4, alpha=0.9)\n",
    "    \n",
    "    # Diagonal reference line\n",
    "    ax.plot([0, 1], [0, 1], 'k--', linewidth=2.5, alpha=0.8, label='Random Classifier')\n",
    "    \n",
    "    ax.set_xlim([-0.02, 1.02])\n",
    "    ax.set_ylim([-0.02, 1.02])\n",
    "    \n",
    "    ax.set_xlabel('False Positive Rate', fontsize=22, fontweight='bold', labelpad=15)\n",
    "    ax.set_ylabel('True Positive Rate', fontsize=22, fontweight='bold', labelpad=15)\n",
    "    ax.set_title(title, fontsize=26, fontweight='bold', pad=30)\n",
    "    \n",
    "    ax.set_xticks([0.0, 0.2, 0.4, 0.6, 0.8, 1.0])\n",
    "    ax.set_yticks([0.0, 0.2, 0.4, 0.6, 0.8, 1.0])\n",
    "    ax.tick_params(axis='both', which='major', labelsize=18, length=8, width=2)\n",
    "    \n",
    "    legend = ax.legend(loc=\"lower right\", fontsize=16, frameon=True, \n",
    "                       fancybox=True, shadow=True, framealpha=0.95,\n",
    "                       edgecolor='black', facecolor='white',\n",
    "                       borderpad=1.2, labelspacing=1.5)\n",
    "    legend.get_frame().set_linewidth(2)\n",
    "    \n",
    "    ax.set_facecolor('white')\n",
    "    fig.patch.set_facecolor('white')\n",
    "    \n",
    "    for spine in ax.spines.values():\n",
    "        spine.set_linewidth(3)\n",
    "        spine.set_color('black')\n",
    "    \n",
    "    plt.tight_layout()\n",
    "    \n",
    "    if save_path:\n",
    "        plt.savefig(f\"{save_path}_high_res.tiff\", dpi=600, bbox_inches='tight', \n",
    "                    facecolor='white', format='tiff')\n",
    "        plt.savefig(f\"{save_path}_vector.pdf\", format='pdf', bbox_inches='tight', \n",
    "                    facecolor='white')\n",
    "        print(f\"✓ Saved: {save_path}_high_res.tiff and {save_path}_vector.pdf\")\n",
    "    \n",
    "    plt.show()\n",
    "    return roc_auc[\"macro\"]"
   ]
  },
  {
   "cell_type": "markdown",
   "metadata": {},
   "source": [
    "## Generate SOST1 + SOST2 SVM ROC Curve"
   ]
  },
  {
   "cell_type": "code",
   "execution_count": null,
   "metadata": {},
   "outputs": [],
   "source": [
    "print(\"=== Generating SOST1 + SOST2 SVM ROC curve ===\")\n",
    "\n",
    "X_sost = df[['sost_1', 'sost_2']].values\n",
    "X_sost_train, X_sost_test, y_sost_train, y_sost_test = train_test_split(\n",
    "    X_sost, y, test_size=0.25, random_state=42, stratify=y)\n",
    "\n",
    "y_proba_svm = train_svm(svm_config, X_sost_train, X_sost_test, \n",
    "                        y_sost_train, y_sost_test)\n",
    "\n",
    "output_dir = r\"F:\\作图目录20280825\\ROC_curves_enhanced\"\n",
    "os.makedirs(output_dir, exist_ok=True)\n",
    "\n",
    "save_path_svm = os.path.join(output_dir, \"ROC_SOST1_SOST2_SVM_only\")\n",
    "auc_score = plot_svm_roc_curve(\n",
    "    y_sost_test, y_proba_svm, \n",
    "    'SOST1 + SOST2 Features - SVM', \n",
    "    save_path_svm\n",
    ")\n",
    "\n",
    "print(f\"\\n=== SVM AUC Score: {auc_score:.3f} ===\")\n",
    "print(\"\\n=== SOST1+SOST2 SVM completed ===\")"
   ]
  },
  {
   "cell_type": "markdown",
   "metadata": {},
   "source": [
    "## Results Summary"
   ]
  },
  {
   "cell_type": "code",
   "execution_count": null,
   "metadata": {},
   "outputs": [],
   "source": [
    "print(\"=== SVM Performance Summary ===\")\n",
    "print(f\"Feature Combination: SOST1+SOST2\")\n",
    "print(f\"Algorithm: SVM\")\n",
    "print(f\"AUC Score: {auc_score:.3f}\")\n",
    "print(f\"Color: {svm_config['color']}\")\n",
    "\n",
    "result_data = {\n",
    "    'Feature Combination': ['SOST1+SOST2'],\n",
    "    'Algorithm': ['SVM'],\n",
    "    'AUC Score': [f\"{auc_score:.3f}\"],\n",
    "    'Color': [svm_config['color']]\n",
    "}\n",
    "\n",
    "result_df = pd.DataFrame(result_data)\n",
    "summary_file = os.path.join(output_dir, \"SVM_Performance_Summary.xlsx\")\n",
    "result_df.to_excel(summary_file, index=False)\n",
    "print(f\"\\n✓ Results saved to: {summary_file}\")"
   ]
  }
 ],
 "metadata": {
  "kernelspec": {
   "display_name": "Python 3 (ipykernel)",
   "language": "python",
   "name": "python3"
  },
  "language_info": {
   "codemirror_mode": {
    "name": "ipython",
    "version": 3
   },
   "file_extension": ".py",
   "mimetype": "text/x-python",
   "name": "python",
   "nbconvert_exporter": "python",
   "pygments_lexer": "ipython3",
   "version": "3.12.0"
  }
 },
 "nbformat": 4,
 "nbformat_minor": 4
}
